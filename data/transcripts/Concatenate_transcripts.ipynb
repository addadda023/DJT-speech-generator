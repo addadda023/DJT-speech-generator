{
 "cells": [
  {
   "cell_type": "code",
   "execution_count": 1,
   "metadata": {},
   "outputs": [],
   "source": [
    "# Import essentials\n",
    "from os import listdir\n",
    "from os.path import isfile, join\n"
   ]
  },
  {
   "cell_type": "code",
   "execution_count": 6,
   "metadata": {},
   "outputs": [],
   "source": [
    "# Get all files in this directory\n",
    "txtfiles = [f for f in listdir() if isfile(join('', f))]"
   ]
  },
  {
   "cell_type": "code",
   "execution_count": 7,
   "metadata": {},
   "outputs": [
    {
     "data": {
      "text/plain": [
       "71"
      ]
     },
     "execution_count": 7,
     "metadata": {},
     "output_type": "execute_result"
    }
   ],
   "source": [
    "# Remove the IPython notebook\n",
    "txtfiles = txtfiles[1:]\n",
    "len(txtfiles)"
   ]
  },
  {
   "cell_type": "code",
   "execution_count": 12,
   "metadata": {},
   "outputs": [
    {
     "name": "stdout",
     "output_type": "stream",
     "text": [
      "processing file:  Donald Trump Holds a Political Rally in Belgrade, Montana.txt\n",
      "processing file:  Donald Trump Holds a Political Rally in Billings, Montana.txt\n",
      "processing file:  Donald Trump Holds a Political Rally in Biloxi, Mississippi.txt\n",
      "processing file:  Donald Trump Holds a Political Rally in Cape Girardeau, Missouri.txt\n",
      "processing file:  Donald Trump Holds a Political Rally in Cedar Rapids, Iowa.txt\n",
      "processing file:  Donald Trump Holds a Political Rally in Charleston, West Virginia.txt\n",
      "processing file:  Donald Trump Holds a Political Rally in Charlotte, North Carolina.txt\n",
      "processing file:  Donald Trump Holds a Political Rally in Chattanooga, Tennessee.txt\n",
      "processing file:  Donald Trump Holds a Political Rally in Cincinnati, OH.txt\n",
      "processing file:  Donald Trump Holds a Political Rally in Cincinnati, Ohio.txt\n",
      "processing file:  Donald Trump Holds a Political Rally in Cleveland, Ohio.txt\n",
      "processing file:  Donald Trump Holds a Political Rally in Columbia, Missouri.txt\n",
      "processing file:  Donald Trump Holds a Political Rally in Council Bluffs, Iowa.txt\n",
      "processing file:  Donald Trump Holds a Political Rally in Dallas, Texas.txt\n",
      "processing file:  Donald Trump Holds a Political Rally in Duluth, Minnesota.txt\n",
      "processing file:  Donald Trump Holds a Political Rally in El Paso, Texas.txt\n",
      "processing file:  Donald Trump Holds a Political Rally in Elkhart, Indiana.txt\n",
      "processing file:  Donald Trump Holds a Political Rally in Elko, Nevada.txt\n",
      "processing file:  Donald Trump Holds a Political Rally in Erie, Pennsylvania.txt\n",
      "processing file:  Donald Trump Holds a Political Rally in Evansville, Indiana.txt\n",
      "processing file:  Donald Trump Holds a Political Rally in Fargo, North Dakota.txt\n",
      "processing file:  Donald Trump Holds a Political Rally in Fayetteville, North Carolina.txt\n",
      "processing file:  Donald Trump Holds a Political Rally in Fort Myers, Florida.txt\n",
      "processing file:  Donald Trump Holds a Political Rally in Fort Wayne, Indiana.txt\n",
      "processing file:  Donald Trump Holds a Political Rally in Grand Rapids, Michigan.txt\n",
      "processing file:  Donald Trump Holds a Political Rally in Great Falls, Montana.txt\n",
      "processing file:  Donald Trump Holds a Political Rally in Green Bay, Wisconsin.txt\n",
      "processing file:  Donald Trump Holds a Political Rally in Greenville, North Carolina.txt\n",
      "processing file:  Donald Trump Holds a Political Rally in Harrisburg, Pennsylvania.txt\n",
      "processing file:  Donald Trump Holds a Political Rally in Houston, Texas.txt\n",
      "processing file:  Donald Trump Holds a Political Rally in Huntington, West Virginia.txt\n",
      "processing file:  Donald Trump Holds a Political Rally in Huntsville, Alabama.txt\n",
      "processing file:  Donald Trump Holds a Political Rally in Indianapolis, Indiana.txt\n",
      "processing file:  Donald Trump Holds a Political Rally in Johnson City, Tennessee.txt\n",
      "processing file:  Donald Trump Holds a Political Rally in Lake Charles, Louisiana.txt\n",
      "processing file:  Donald Trump Holds a Political Rally in Las Vegas, Nevada.txt\n",
      "processing file:  Donald Trump Holds a Political Rally in Las Vegas, NV.txt\n",
      "processing file:  Donald Trump Holds a Political Rally in Lebanon, Ohio.txt\n",
      "processing file:  Donald Trump Holds a Political Rally in Lewis Center, Ohio.txt\n",
      "processing file:  Donald Trump Holds a Political Rally in Lexington, Kentucky.txt\n",
      "processing file:  Donald Trump Holds a Political Rally in Louisville, Kentucky.txt\n",
      "processing file:  Donald Trump Holds a Political Rally in Macon, Georgia.txt\n",
      "processing file:  Donald Trump Holds a Political Rally in Manchester, New Hampshire.txt\n",
      "processing file:  Donald Trump Holds a Political Rally in Melbourne, Florida.txt\n",
      "processing file:  Donald Trump Holds a Political Rally in Mesa, Arizona.txt\n",
      "processing file:  Donald Trump Holds a Political Rally in Minneapolis, Minnesota.txt\n",
      "processing file:  Donald Trump Holds a Political Rally in Missoula, Montana.txt\n",
      "processing file:  Donald Trump Holds a Political Rally in Monroe, Louisiana.txt\n",
      "processing file:  Donald Trump Holds a Political Rally in Montoursville, Pennsylvania.txt\n",
      "processing file:  Donald Trump Holds a Political Rally in Moon Township, Pennsylvania.txt\n",
      "processing file:  Donald Trump Holds a Political Rally in Mosinee, Wisconsin.txt\n",
      "processing file:  Donald Trump Holds a Political Rally in Murphysboro, Illinois.txt\n",
      "processing file:  Donald Trump Holds a Political Rally in Nashville, Tennessee.txt\n",
      "processing file:  Donald Trump Holds a Political Rally in New York, NY.txt\n",
      "processing file:  Donald Trump Holds a Political Rally in Oskaloosa, Iowa.txt\n",
      "processing file:  Donald Trump Holds a Political Rally in Panama City Beach, Florida.txt\n",
      "processing file:  Donald Trump Holds a Political Rally in Pensacola, Florida.txt\n",
      "processing file:  Donald Trump Holds a Political Rally in Phoenix, Arizona.txt\n",
      "processing file:  Donald Trump Holds a Political Rally in Richmond, Kentucky.txt\n",
      "processing file:  Donald Trump Holds a Political Rally in Rio Rancho, New Mexico.txt\n",
      "processing file:  Donald Trump Holds a Political Rally in Rochester, Minnesota.txt\n",
      "processing file:  Donald Trump Holds a Political Rally in Southaven, Mississippi.txt\n",
      "processing file:  Donald Trump Holds a Political Rally in Springfield, Missouri.txt\n",
      "processing file:  Donald Trump Holds a Political Rally in Tampa, Florida.txt\n",
      "processing file:  Donald Trump Holds a Political Rally in Topeka, Kansas.txt\n",
      "processing file:  Donald Trump Holds a Political Rally in Tupelo, Mississippi.txt\n",
      "processing file:  Donald Trump Holds a Political Rally in Washington Township, Michigan.txt\n",
      "processing file:  Donald Trump Holds a Political Rally in West Columbia, South Carolina.txt\n",
      "processing file:  Donald Trump Holds a Political Rally in Wheeling, West Virginia.txt\n",
      "processing file:  Donald Trump Holds a Political Rally in Wilkes-Barre, Pennsylvania.txt\n",
      "processing file:  Donald Trump Holds a Political Rally in Youngstown, Ohio.txt\n",
      "71\n"
     ]
    }
   ],
   "source": [
    "# Concatenate all into 1 file\n",
    "count = 0\n",
    "with open('all_transcripts', 'w') as outfile:\n",
    "    for fname in txtfiles:\n",
    "        with open(fname, encoding=\"utf8\") as f:\n",
    "            print('processing file: ', fname)\n",
    "            outfile.write(f.read())\n",
    "            count += 1\n",
    "print(count)"
   ]
  },
  {
   "cell_type": "code",
   "execution_count": null,
   "metadata": {},
   "outputs": [],
   "source": []
  }
 ],
 "metadata": {
  "kernelspec": {
   "display_name": "Python 3",
   "language": "python",
   "name": "python3"
  },
  "language_info": {
   "codemirror_mode": {
    "name": "ipython",
    "version": 3
   },
   "file_extension": ".py",
   "mimetype": "text/x-python",
   "name": "python",
   "nbconvert_exporter": "python",
   "pygments_lexer": "ipython3",
   "version": "3.6.4"
  }
 },
 "nbformat": 4,
 "nbformat_minor": 2
}
